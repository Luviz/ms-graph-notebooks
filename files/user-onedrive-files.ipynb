{
 "cells": [
  {
   "cell_type": "markdown",
   "metadata": {},
   "source": [
    "# Get Drive items"
   ]
  },
  {
   "cell_type": "markdown",
   "metadata": {},
   "source": [
    "## Install and Import"
   ]
  },
  {
   "cell_type": "code",
   "execution_count": 1,
   "metadata": {},
   "outputs": [
    {
     "name": "stdout",
     "output_type": "stream",
     "text": [
      "Requirement already satisfied: pandas in /home/bardia/mynotes/.venv/lib/python3.12/site-packages (2.2.2)\n",
      "Requirement already satisfied: msal in /home/bardia/mynotes/.venv/lib/python3.12/site-packages (1.28.0)\n",
      "Requirement already satisfied: openpyxl in /home/bardia/mynotes/.venv/lib/python3.12/site-packages (3.1.2)\n",
      "Requirement already satisfied: numpy>=1.26.0 in /home/bardia/mynotes/.venv/lib/python3.12/site-packages (from pandas) (1.26.4)\n",
      "Requirement already satisfied: python-dateutil>=2.8.2 in /home/bardia/mynotes/.venv/lib/python3.12/site-packages (from pandas) (2.9.0.post0)\n",
      "Requirement already satisfied: pytz>=2020.1 in /home/bardia/mynotes/.venv/lib/python3.12/site-packages (from pandas) (2024.1)\n",
      "Requirement already satisfied: tzdata>=2022.7 in /home/bardia/mynotes/.venv/lib/python3.12/site-packages (from pandas) (2024.1)\n",
      "Requirement already satisfied: requests<3,>=2.0.0 in /home/bardia/mynotes/.venv/lib/python3.12/site-packages (from msal) (2.31.0)\n",
      "Requirement already satisfied: PyJWT<3,>=1.0.0 in /home/bardia/mynotes/.venv/lib/python3.12/site-packages (from PyJWT[crypto]<3,>=1.0.0->msal) (2.8.0)\n",
      "Requirement already satisfied: cryptography<45,>=0.6 in /home/bardia/mynotes/.venv/lib/python3.12/site-packages (from msal) (42.0.7)\n",
      "Requirement already satisfied: et-xmlfile in /home/bardia/mynotes/.venv/lib/python3.12/site-packages (from openpyxl) (1.1.0)\n",
      "Requirement already satisfied: cffi>=1.12 in /home/bardia/mynotes/.venv/lib/python3.12/site-packages (from cryptography<45,>=0.6->msal) (1.16.0)\n",
      "Requirement already satisfied: six>=1.5 in /home/bardia/mynotes/.venv/lib/python3.12/site-packages (from python-dateutil>=2.8.2->pandas) (1.16.0)\n",
      "Requirement already satisfied: charset-normalizer<4,>=2 in /home/bardia/mynotes/.venv/lib/python3.12/site-packages (from requests<3,>=2.0.0->msal) (3.3.2)\n",
      "Requirement already satisfied: idna<4,>=2.5 in /home/bardia/mynotes/.venv/lib/python3.12/site-packages (from requests<3,>=2.0.0->msal) (3.7)\n",
      "Requirement already satisfied: urllib3<3,>=1.21.1 in /home/bardia/mynotes/.venv/lib/python3.12/site-packages (from requests<3,>=2.0.0->msal) (2.2.1)\n",
      "Requirement already satisfied: certifi>=2017.4.17 in /home/bardia/mynotes/.venv/lib/python3.12/site-packages (from requests<3,>=2.0.0->msal) (2024.2.2)\n",
      "Requirement already satisfied: pycparser in /home/bardia/mynotes/.venv/lib/python3.12/site-packages (from cffi>=1.12->cryptography<45,>=0.6->msal) (2.22)\n",
      "Note: you may need to restart the kernel to use updated packages.\n"
     ]
    }
   ],
   "source": [
    "%pip install pandas msal openpyxl"
   ]
  },
  {
   "cell_type": "code",
   "execution_count": 2,
   "metadata": {},
   "outputs": [],
   "source": [
    "import msal\n",
    "import requests\n",
    "import pandas as pd"
   ]
  },
  {
   "cell_type": "markdown",
   "metadata": {},
   "source": [
    "## Configs"
   ]
  },
  {
   "cell_type": "markdown",
   "metadata": {},
   "source": [
    "### Skapa Service Principle\n",
    "följ våran guid och skapa SP:n och fill i Cell:en nedan.\n",
    "> notera att `CLIENT_ID` är `Application (client) ID`"
   ]
  },
  {
   "cell_type": "code",
   "execution_count": 3,
   "metadata": {},
   "outputs": [],
   "source": [
    "TENANT_ID=\"8f4baa8a-c188-4891-8a8c-0b7d53418c93\"\n",
    "CLIENT_ID=\"1c0887a1-2b6c-4a95-9dfb-53901c3049a5\"\n",
    "CLIENT_SECRET=\"<secret>\""
   ]
  },
  {
   "cell_type": "markdown",
   "metadata": {},
   "source": [
    "### Users\n",
    "Add users"
   ]
  },
  {
   "cell_type": "code",
   "execution_count": 4,
   "metadata": {},
   "outputs": [],
   "source": [
    "user_ids = {\n",
    "  \"bardia\": \"07b076e1-9273-44ab-afc2-4653303eb368\",\n",
    "  \"AdeleV\": \"AdeleV@M365B806348.OnMicrosoft.com\",\n",
    "  \"AlexW\": \"AlexW@M365B806348.OnMicrosoft.com\",\n",
    "  \"AllanD\": \"AllanD@M365B806348.OnMicrosoft.com\",\n",
    "}"
   ]
  },
  {
   "cell_type": "markdown",
   "metadata": {},
   "source": [
    "### functions"
   ]
  },
  {
   "cell_type": "code",
   "execution_count": 5,
   "metadata": {},
   "outputs": [],
   "source": [
    "ms_graph_url = \"https://graph.microsoft.com/v1.0\"\n",
    "SCOPE = [\"https://graph.microsoft.com/.default\"]\n",
    "\n",
    "\n",
    "def get_headers():\n",
    "    app = msal.ConfidentialClientApplication(\n",
    "        CLIENT_ID,\n",
    "        authority=f\"https://login.microsoftonline.com/{TENANT_ID}\",\n",
    "        client_credential=CLIENT_SECRET,\n",
    "    )\n",
    "    r = app.acquire_token_for_client(SCOPE)\n",
    "    access_token = r[\"access_token\"]\n",
    "    return {\n",
    "        \"Authorization\": \"Bearer \" + access_token,\n",
    "        \"Content-Type\": \"application/json\",\n",
    "    }\n",
    "\n",
    "\n",
    "def get_drive_id(user_id):\n",
    "    url = ms_graph_url + f\"/users/{user_id}/drive/\"\n",
    "    res = requests.get(url, headers=headers)\n",
    "    if res.status_code != 200:\n",
    "        raise f\"call failed\"\n",
    "    return res.json()[\"id\"]\n",
    "\n",
    "\n",
    "def get_folder_items(user_id, folder_id=\"root\"):\n",
    "    url = ms_graph_url + f\"/users/{user_id}/drive/items/{folder_id}/children\"\n",
    "    res = requests.get(url, headers=headers)\n",
    "    if res.status_code != 200:\n",
    "        raise f\"call failed\"\n",
    "    return pd.DataFrame(res.json()[\"value\"])\n",
    "\n",
    "\n",
    "def get_folder_with_items(data: pd.DataFrame):\n",
    "    folders = data[~data[\"folder\"].isna()]\n",
    "    return folders[[f[\"childCount\"] > 0 for f in folders[\"folder\"]]]\n",
    "\n",
    "\n",
    "def get_folder_ids(data: pd.DataFrame) -> list[str]:\n",
    "    try:\n",
    "        return list(get_folder_with_items(data)[\"id\"])\n",
    "    except KeyError:\n",
    "        return []\n",
    "\n",
    "\n",
    "def get_files(data: pd.DataFrame) -> list[str]:\n",
    "    try:\n",
    "        return data[~data[\"file\"].isna()]\n",
    "    except KeyError:\n",
    "        return pd.DataFrame()\n",
    "\n",
    "\n",
    "def sort_items_folder(data: pd.DataFrame):\n",
    "    return get_files(data), get_folder_ids(data)\n",
    "\n",
    "\n",
    "def get_users_files(user_id):\n",
    "    folders_ids = [\"root\"]\n",
    "    items = pd.DataFrame()\n",
    "    while len(folders_ids) > 0:\n",
    "        curr_folder = folders_ids.pop()\n",
    "        output = get_folder_items(user_id, curr_folder)\n",
    "        curr_items, new_folder_ids = sort_items_folder(output)\n",
    "        items = pd.concat([curr_items, items])\n",
    "        folders_ids.extend(new_folder_ids)\n",
    "    return items\n",
    "\n",
    "\n",
    "headers = get_headers()"
   ]
  },
  {
   "cell_type": "markdown",
   "metadata": {},
   "source": [
    "## Get report"
   ]
  },
  {
   "cell_type": "code",
   "execution_count": 9,
   "metadata": {},
   "outputs": [
    {
     "data": {
      "text/html": [
       "<div>\n",
       "<style scoped>\n",
       "    .dataframe tbody tr th:only-of-type {\n",
       "        vertical-align: middle;\n",
       "    }\n",
       "\n",
       "    .dataframe tbody tr th {\n",
       "        vertical-align: top;\n",
       "    }\n",
       "\n",
       "    .dataframe thead th {\n",
       "        text-align: right;\n",
       "    }\n",
       "</style>\n",
       "<table border=\"1\" class=\"dataframe\">\n",
       "  <thead>\n",
       "    <tr style=\"text-align: right;\">\n",
       "      <th></th>\n",
       "      <th>id</th>\n",
       "      <th>name</th>\n",
       "      <th>folder</th>\n",
       "      <th>size</th>\n",
       "      <th>webUrl</th>\n",
       "      <th>file</th>\n",
       "    </tr>\n",
       "  </thead>\n",
       "  <tbody>\n",
       "    <tr>\n",
       "      <th>0</th>\n",
       "      <td>01NVXOCCYWY44RBZ2BMREJXMG7FXZ5EROG</td>\n",
       "      <td>Shelter Volunteers.xlsx</td>\n",
       "      <td>NaN</td>\n",
       "      <td>8596</td>\n",
       "      <td>https://m365b806348-my.sharepoint.com/personal...</td>\n",
       "      <td>{'hashes': {'quickXorHash': 'e/qrPTn7GNxUx13dS...</td>\n",
       "    </tr>\n",
       "    <tr>\n",
       "      <th>1</th>\n",
       "      <td>01NVXOCCZRE5P4TZCFVFC3NJKFH5OPEGR3</td>\n",
       "      <td>New Product Presentation.pptx</td>\n",
       "      <td>NaN</td>\n",
       "      <td>491171</td>\n",
       "      <td>https://m365b806348-my.sharepoint.com/personal...</td>\n",
       "      <td>{'hashes': {'quickXorHash': 'fAOB5W6oIVM6zU7jm...</td>\n",
       "    </tr>\n",
       "    <tr>\n",
       "      <th>2</th>\n",
       "      <td>01NVXOCC7NKNYK4CPXHNCZEKGABDF5VKEF</td>\n",
       "      <td>New Product Pricing.docx</td>\n",
       "      <td>NaN</td>\n",
       "      <td>729957</td>\n",
       "      <td>https://m365b806348-my.sharepoint.com/personal...</td>\n",
       "      <td>{'hashes': {'quickXorHash': 'MuMwGRG5AeP2U1tVT...</td>\n",
       "    </tr>\n",
       "    <tr>\n",
       "      <th>3</th>\n",
       "      <td>01NVXOCCYHFWTXZLZM3RAZEFFZU2KAS2JT</td>\n",
       "      <td>QT1000 Marketing Plan.pptx</td>\n",
       "      <td>NaN</td>\n",
       "      <td>449499</td>\n",
       "      <td>https://m365b806348-my.sharepoint.com/personal...</td>\n",
       "      <td>{'hashes': {'quickXorHash': 'N0BZOY6yYBUOb1K7m...</td>\n",
       "    </tr>\n",
       "    <tr>\n",
       "      <th>4</th>\n",
       "      <td>01NVXOCC5LAWEDKLVMIZEJXLUPOSTVJJWR</td>\n",
       "      <td>Timesheet_AdeleV.xlsx</td>\n",
       "      <td>NaN</td>\n",
       "      <td>12091</td>\n",
       "      <td>https://m365b806348-my.sharepoint.com/personal...</td>\n",
       "      <td>{'hashes': {'quickXorHash': 'FX4t5RqUxVkEY6Wdy...</td>\n",
       "    </tr>\n",
       "    <tr>\n",
       "      <th>5</th>\n",
       "      <td>01NVXOCC7TQOI3EOSJQ5G3TEBSSDPCNKLF</td>\n",
       "      <td>ZT6006 Major Selling Points.docx</td>\n",
       "      <td>NaN</td>\n",
       "      <td>25340</td>\n",
       "      <td>https://m365b806348-my.sharepoint.com/personal...</td>\n",
       "      <td>{'hashes': {'quickXorHash': '7f3F/6yD7rByFLu8v...</td>\n",
       "    </tr>\n",
       "  </tbody>\n",
       "</table>\n",
       "</div>"
      ],
      "text/plain": [
       "                                   id                              name  \\\n",
       "0  01NVXOCCYWY44RBZ2BMREJXMG7FXZ5EROG           Shelter Volunteers.xlsx   \n",
       "1  01NVXOCCZRE5P4TZCFVFC3NJKFH5OPEGR3     New Product Presentation.pptx   \n",
       "2  01NVXOCC7NKNYK4CPXHNCZEKGABDF5VKEF          New Product Pricing.docx   \n",
       "3  01NVXOCCYHFWTXZLZM3RAZEFFZU2KAS2JT        QT1000 Marketing Plan.pptx   \n",
       "4  01NVXOCC5LAWEDKLVMIZEJXLUPOSTVJJWR             Timesheet_AdeleV.xlsx   \n",
       "5  01NVXOCC7TQOI3EOSJQ5G3TEBSSDPCNKLF  ZT6006 Major Selling Points.docx   \n",
       "\n",
       "  folder    size                                             webUrl  \\\n",
       "0    NaN    8596  https://m365b806348-my.sharepoint.com/personal...   \n",
       "1    NaN  491171  https://m365b806348-my.sharepoint.com/personal...   \n",
       "2    NaN  729957  https://m365b806348-my.sharepoint.com/personal...   \n",
       "3    NaN  449499  https://m365b806348-my.sharepoint.com/personal...   \n",
       "4    NaN   12091  https://m365b806348-my.sharepoint.com/personal...   \n",
       "5    NaN   25340  https://m365b806348-my.sharepoint.com/personal...   \n",
       "\n",
       "                                                file  \n",
       "0  {'hashes': {'quickXorHash': 'e/qrPTn7GNxUx13dS...  \n",
       "1  {'hashes': {'quickXorHash': 'fAOB5W6oIVM6zU7jm...  \n",
       "2  {'hashes': {'quickXorHash': 'MuMwGRG5AeP2U1tVT...  \n",
       "3  {'hashes': {'quickXorHash': 'N0BZOY6yYBUOb1K7m...  \n",
       "4  {'hashes': {'quickXorHash': 'FX4t5RqUxVkEY6Wdy...  \n",
       "5  {'hashes': {'quickXorHash': '7f3F/6yD7rByFLu8v...  "
      ]
     },
     "execution_count": 9,
     "metadata": {},
     "output_type": "execute_result"
    }
   ],
   "source": [
    "user_id = user_ids['AdeleV']\n",
    "items = get_users_files(user_id)\n",
    "items[['id', 'name', 'folder', 'size', 'webUrl', 'file']]"
   ]
  },
  {
   "cell_type": "markdown",
   "metadata": {},
   "source": [
    "### Filter results"
   ]
  },
  {
   "cell_type": "code",
   "execution_count": 22,
   "metadata": {},
   "outputs": [
    {
     "data": {
      "text/html": [
       "<div>\n",
       "<style scoped>\n",
       "    .dataframe tbody tr th:only-of-type {\n",
       "        vertical-align: middle;\n",
       "    }\n",
       "\n",
       "    .dataframe tbody tr th {\n",
       "        vertical-align: top;\n",
       "    }\n",
       "\n",
       "    .dataframe thead th {\n",
       "        text-align: right;\n",
       "    }\n",
       "</style>\n",
       "<table border=\"1\" class=\"dataframe\">\n",
       "  <thead>\n",
       "    <tr style=\"text-align: right;\">\n",
       "      <th></th>\n",
       "      <th>id</th>\n",
       "      <th>name</th>\n",
       "      <th>folder</th>\n",
       "      <th>size</th>\n",
       "      <th>webUrl</th>\n",
       "      <th>file</th>\n",
       "    </tr>\n",
       "  </thead>\n",
       "  <tbody>\n",
       "    <tr>\n",
       "      <th>1</th>\n",
       "      <td>01NVXOCCZRE5P4TZCFVFC3NJKFH5OPEGR3</td>\n",
       "      <td>New Product Presentation.pptx</td>\n",
       "      <td>NaN</td>\n",
       "      <td>491171</td>\n",
       "      <td>https://m365b806348-my.sharepoint.com/personal...</td>\n",
       "      <td>{'hashes': {'quickXorHash': 'fAOB5W6oIVM6zU7jm...</td>\n",
       "    </tr>\n",
       "    <tr>\n",
       "      <th>2</th>\n",
       "      <td>01NVXOCC7NKNYK4CPXHNCZEKGABDF5VKEF</td>\n",
       "      <td>New Product Pricing.docx</td>\n",
       "      <td>NaN</td>\n",
       "      <td>729957</td>\n",
       "      <td>https://m365b806348-my.sharepoint.com/personal...</td>\n",
       "      <td>{'hashes': {'quickXorHash': 'MuMwGRG5AeP2U1tVT...</td>\n",
       "    </tr>\n",
       "  </tbody>\n",
       "</table>\n",
       "</div>"
      ],
      "text/plain": [
       "                                   id                           name folder  \\\n",
       "1  01NVXOCCZRE5P4TZCFVFC3NJKFH5OPEGR3  New Product Presentation.pptx    NaN   \n",
       "2  01NVXOCC7NKNYK4CPXHNCZEKGABDF5VKEF       New Product Pricing.docx    NaN   \n",
       "\n",
       "     size                                             webUrl  \\\n",
       "1  491171  https://m365b806348-my.sharepoint.com/personal...   \n",
       "2  729957  https://m365b806348-my.sharepoint.com/personal...   \n",
       "\n",
       "                                                file  \n",
       "1  {'hashes': {'quickXorHash': 'fAOB5W6oIVM6zU7jm...  \n",
       "2  {'hashes': {'quickXorHash': 'MuMwGRG5AeP2U1tVT...  "
      ]
     },
     "execution_count": 22,
     "metadata": {},
     "output_type": "execute_result"
    }
   ],
   "source": [
    "filtered_items = items[items['name'].str.contains('Product', case=True)]\n",
    "filtered_items[['id', 'name', 'folder', 'size', 'webUrl', 'file']]"
   ]
  },
  {
   "cell_type": "code",
   "execution_count": 11,
   "metadata": {},
   "outputs": [],
   "source": [
    "items.to_excel(f\"{user_id}_files.xlsx\")"
   ]
  }
 ],
 "metadata": {
  "kernelspec": {
   "display_name": "Python 3",
   "language": "python",
   "name": "python3"
  },
  "language_info": {
   "codemirror_mode": {
    "name": "ipython",
    "version": 3
   },
   "file_extension": ".py",
   "mimetype": "text/x-python",
   "name": "python",
   "nbconvert_exporter": "python",
   "pygments_lexer": "ipython3",
   "version": "3.12.3"
  }
 },
 "nbformat": 4,
 "nbformat_minor": 2
}
